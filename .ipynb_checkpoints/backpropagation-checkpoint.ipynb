{
 "cells": [
  {
   "cell_type": "markdown",
   "metadata": {},
   "source": [
    "# Alan Hurtarte\n",
    "## 19000590\n",
    "\n",
    "---\n",
    "\n",
    "## Backpropagation"
   ]
  },
  {
   "cell_type": "code",
   "execution_count": 1,
   "metadata": {},
   "outputs": [],
   "source": [
    "import numpy as np"
   ]
  },
  {
   "cell_type": "code",
   "execution_count": 106,
   "metadata": {},
   "outputs": [],
   "source": [
    "x = np.array([[0,0], [0,1], [1,0], [1,1]])\n",
    "y = np.array([[0],[1],[1],[0]])"
   ]
  },
  {
   "cell_type": "code",
   "execution_count": 107,
   "metadata": {},
   "outputs": [],
   "source": [
    "def g(x):\n",
    "    return 1/(1+np.exp(-x))\n",
    "\n",
    "def g_prime(x):\n",
    "    return x*(1.0-x)\n",
    "\n",
    "def backpropagation(w1,w2, lr, epoch):\n",
    "    for i in range(epoch):\n",
    "        a1 = np.dot(x, w1)\n",
    "        h1 = g(a1)\n",
    "        a2 = np.dot(h1, w2)\n",
    "        h2 = g(a2)\n",
    "        \n",
    "        #Backpropagation\n",
    "        error = (np.subtract(h2, y))\n",
    "        if i % 1000 == 0:\n",
    "            print(\"Epoch: \"+str(i)+\", error: \" + str(np.mean(error)))\n",
    "        output_delta = error * g_prime(h2)\n",
    "        error_hidden = np.dot(output_delta, w2.T)\n",
    "        hidden_delta = error_hidden * g_prime(h1)   \n",
    "        \n",
    "        w2 = w2 - lr * np.dot(h1.T, output_delta)\n",
    "        w1 = w1 - lr * np.dot(x.T, hidden_delta)\n",
    "    return h2, error\n"
   ]
  },
  {
   "cell_type": "code",
   "execution_count": 108,
   "metadata": {},
   "outputs": [],
   "source": [
    "dim = x.shape[0]\n",
    "inputs = x.shape[1]\n",
    "hiddens = dim + 1\n",
    "outputs = y.shape[1] \n",
    "w1 = np.random.random((inputs, hiddens))\n",
    "w2 = np.random.random((hiddens, outputs))"
   ]
  },
  {
   "cell_type": "code",
   "execution_count": 109,
   "metadata": {},
   "outputs": [
    {
     "name": "stdout",
     "output_type": "stream",
     "text": [
      "Epoch: 0, error: 0.3092759527344853\n",
      "Epoch: 1000, error: 0.0031764629968528135\n",
      "Epoch: 2000, error: 0.009270562577972138\n",
      "Epoch: 3000, error: 0.007443564090829205\n",
      "Epoch: 4000, error: 0.0006807749624415937\n",
      "Epoch: 5000, error: -0.0005536961283511138\n",
      "Epoch: 6000, error: 0.0006517404109830649\n",
      "Epoch: 7000, error: 0.0010929216076643565\n",
      "Epoch: 8000, error: 0.0011902618247235097\n",
      "Epoch: 9000, error: 0.0011729741985006745\n"
     ]
    },
    {
     "data": {
      "text/plain": [
       "array([[0.0927988 ],\n",
       "       [0.92054931],\n",
       "       [0.91710785],\n",
       "       [0.07401995]])"
      ]
     },
     "execution_count": 109,
     "metadata": {},
     "output_type": "execute_result"
    }
   ],
   "source": [
    "out, error = backpropagation(w1,w2, 0.1, 10000)\n",
    "out"
   ]
  },
  {
   "cell_type": "code",
   "execution_count": 110,
   "metadata": {},
   "outputs": [
    {
     "data": {
      "text/plain": [
       "array([[ 0.0927988 ],\n",
       "       [-0.07945069],\n",
       "       [-0.08289215],\n",
       "       [ 0.07401995]])"
      ]
     },
     "execution_count": 110,
     "metadata": {},
     "output_type": "execute_result"
    }
   ],
   "source": [
    "error"
   ]
  },
  {
   "cell_type": "code",
   "execution_count": 111,
   "metadata": {},
   "outputs": [
    {
     "data": {
      "text/plain": [
       "0.0011189789482312258"
      ]
     },
     "execution_count": 111,
     "metadata": {},
     "output_type": "execute_result"
    }
   ],
   "source": [
    "np.mean(np.sum(np.mean(error)))"
   ]
  }
 ],
 "metadata": {
  "kernelspec": {
   "display_name": "Python 3",
   "language": "python",
   "name": "python3"
  },
  "language_info": {
   "codemirror_mode": {
    "name": "ipython",
    "version": 3
   },
   "file_extension": ".py",
   "mimetype": "text/x-python",
   "name": "python",
   "nbconvert_exporter": "python",
   "pygments_lexer": "ipython3",
   "version": "3.7.3"
  }
 },
 "nbformat": 4,
 "nbformat_minor": 2
}
